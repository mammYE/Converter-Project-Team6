{
 "cells": [
  {
   "cell_type": "markdown",
   "id": "801c1bb0-d40d-44e6-99f6-a7b403c6d47d",
   "metadata": {},
   "source": [
    "# ** Converter without UI**"
   ]
  },
  {
   "cell_type": "code",
   "execution_count": null,
   "id": "9deb0a2c-35ac-42b6-a6e2-740e460bce21",
   "metadata": {},
   "outputs": [],
   "source": []
  },
  {
   "cell_type": "code",
   "execution_count": null,
   "id": "871fa649-dffe-47cb-bf46-7665745d4795",
   "metadata": {},
   "outputs": [],
   "source": [
    "# Temperature Function\n",
    "def temperature_converter():\n",
    "    print(\"\\n--- Temperature Converter ---\")\n",
    "    print(\"1. Fahrenheit to Celsius\")\n",
    "    print(\"2. Celsius to Fahrenheit\")\n",
    "    \n",
    "    choice = input(\"Choose conversion type (1-2): \")\n",
    "    \n",
    "    if choice == '1':\n",
    "        fahrenheit = float(input(\"Enter temperature in Fahrenheit: \"))\n",
    "        celsius = (fahrenheit - 32) * 5/9\n",
    "        print(f\"{fahrenheit}°F = {celsius:.2f}°C\")\n",
    "    \n",
    "    elif choice == '2':\n",
    "        celsius = float(input(\"Enter temperature in Celsius: \"))\n",
    "        fahrenheit = (celsius * 9/5) + 32\n",
    "        print(f\"{celsius}°C = {fahrenheit:.2f}°F\")\n",
    "    \n",
    "    else:\n",
    "        print(\"Invalid choice!\")"
   ]
  },
  {
   "cell_type": "code",
   "execution_count": null,
   "id": "7da3b317-a2c6-4baf-b083-f355b266c160",
   "metadata": {},
   "outputs": [],
   "source": [
    "# Length Function\n",
    "def length_converter():\n",
    "    print(\"\\n--- Length Converter ---\")\n",
    "    print(\"1. Miles to Kilometers\")\n",
    "    print(\"2. Kilometers to Miles\")\n",
    "    \n",
    "    choice = input(\"Choose conversion type (1-2): \")\n",
    "    \n",
    "    if choice == '1':\n",
    "        miles = float(input(\"Enter length in miles: \"))\n",
    "        kilometers = miles * 1.60934\n",
    "        print(f\"{miles} miles = {kilometers:.2f} km\")\n",
    "    \n",
    "    elif choice == '2':\n",
    "        kilometers = float(input(\"Enter length in kilometers: \"))\n",
    "        miles = kilometers / 1.60934\n",
    "        print(f\"{kilometers} km = {miles:.2f} miles\")\n",
    "    \n",
    "    else:\n",
    "        print(\"Invalid choice!\")"
   ]
  },
  {
   "cell_type": "code",
   "execution_count": null,
   "id": "e474afac-439e-45c2-b7c8-3f89e77fa2ff",
   "metadata": {},
   "outputs": [],
   "source": [
    "# Weight Function\n",
    "def weight_converter():\n",
    "    print(\"\\n--- Weight Converter ---\")\n",
    "    print(\"1. Pounds to Kilograms\")\n",
    "    print(\"2. Kilograms to Pounds\")\n",
    "    \n",
    "    choice = input(\"Choose conversion type (1-2): \")\n",
    "    \n",
    "    if choice == '1':\n",
    "        pounds = float(input(\"Enter weight in pounds: \"))\n",
    "        kilograms = pounds * 0.453592\n",
    "        print(f\"{pounds} lbs = {kilograms:.2f} kg\")\n",
    "    \n",
    "    elif choice == '2':\n",
    "        kilograms = float(input(\"Enter weight in kilograms: \"))\n",
    "        pounds = kilograms / 0.453592\n",
    "        print(f\"{kilograms} kg = {pounds:.2f} lbs\")\n",
    "    \n",
    "    else:\n",
    "        print(\"Invalid choice!\")"
   ]
  },
  {
   "cell_type": "code",
   "execution_count": null,
   "id": "d06d5175-9daa-404f-911e-e25f39b80623",
   "metadata": {},
   "outputs": [
    {
     "name": "stdout",
     "output_type": "stream",
     "text": [
      "Welcome to the Unit Converter!\n",
      "\n",
      "========================================\n",
      "           UNIT CONVERTER\n",
      "========================================\n",
      "1. Temperature Converter\n",
      "2. Length Converter\n",
      "3. Weight Converter\n",
      "4. Exit\n",
      "========================================\n"
     ]
    },
    {
     "name": "stdin",
     "output_type": "stream",
     "text": [
      "Choose an option (1-4):  2\n"
     ]
    },
    {
     "name": "stdout",
     "output_type": "stream",
     "text": [
      "\n",
      "--- Length Converter ---\n",
      "1. Miles to Kilometers\n",
      "2. Kilometers to Miles\n"
     ]
    },
    {
     "name": "stdin",
     "output_type": "stream",
     "text": [
      "Choose conversion type (1-2):  1\n",
      "Enter length in miles:  450\n"
     ]
    },
    {
     "name": "stdout",
     "output_type": "stream",
     "text": [
      "450.0 miles = 724.20 km\n"
     ]
    }
   ],
   "source": [
    "# text menu\n",
    "def display_menu():\n",
    "    print(\"\\n\" + \"=\"*40)\n",
    "    print(\"           UNIT CONVERTER\")\n",
    "    print(\"=\"*40)\n",
    "    print(\"1. Temperature Converter\")\n",
    "    print(\"2. Length Converter\")\n",
    "    print(\"3. Weight Converter\")\n",
    "    print(\"4. Exit\")\n",
    "    print(\"=\"*40)\n",
    "\n",
    "def main():\n",
    "    print(\"Welcome to the Unit Converter!\")\n",
    "    \n",
    "    while True:\n",
    "        display_menu()\n",
    "        choice = input(\"Choose an option (1-4): \")\n",
    "        \n",
    "        if choice == '1':\n",
    "            temperature_converter()\n",
    "        elif choice == '2':\n",
    "            length_converter()\n",
    "        elif choice == '3':\n",
    "            weight_converter()\n",
    "        elif choice == '4':\n",
    "            print(\"Thank you for using the Unit Converter. Goodbye!\")\n",
    "            break\n",
    "        else:\n",
    "            print(\"Invalid choice! Please enter a number between 1-4.\")\n",
    "        \n",
    "        input(\"\\nPress Enter to continue...\")\n",
    "\n",
    "if __name__ == \"__main__\":\n",
    "    main()"
   ]
  }
 ],
 "metadata": {
  "kernelspec": {
   "display_name": "Python [conda env:base] *",
   "language": "python",
   "name": "conda-base-py"
  },
  "language_info": {
   "codemirror_mode": {
    "name": "ipython",
    "version": 3
   },
   "file_extension": ".py",
   "mimetype": "text/x-python",
   "name": "python",
   "nbconvert_exporter": "python",
   "pygments_lexer": "ipython3",
   "version": "3.13.5"
  }
 },
 "nbformat": 4,
 "nbformat_minor": 5
}
