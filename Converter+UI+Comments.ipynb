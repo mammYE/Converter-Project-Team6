{
 "cells": [
  {
   "cell_type": "markdown",
   "id": "913fd065-8322-4be5-9f46-15dd28da3f26",
   "metadata": {},
   "source": [
    "# **Unit Converter** \n",
    "## Team 6 Members\n",
    "- Ye Mann Aung\n",
    "- Elise Collins\n",
    "- Jainika Punjani\n",
    "- Hnin Oo Wai\n",
    "- Thami Silva"
   ]
  },
  {
   "cell_type": "markdown",
   "id": "3fff099d-f7ca-420b-a93a-682d254b6039",
   "metadata": {},
   "source": [
    "## Project Overview\n",
    "Unit converter built using IPython widgets that allows conversion between different units (Temperature, Length, Weight).\n",
    "\n",
    "# Code\n",
    "## Initial UI Setup"
   ]
  },
  {
   "cell_type": "code",
   "execution_count": 3,
   "id": "38887447-eec8-4c11-96f0-8d9a8722a235",
   "metadata": {},
   "outputs": [
    {
     "ename": "ModuleNotFoundError",
     "evalue": "No module named 'ipywidgets'",
     "output_type": "error",
     "traceback": [
      "\u001b[31m---------------------------------------------------------------------------\u001b[39m",
      "\u001b[31mModuleNotFoundError\u001b[39m                       Traceback (most recent call last)",
      "\u001b[36mCell\u001b[39m\u001b[36m \u001b[39m\u001b[32mIn[3]\u001b[39m\u001b[32m, line 1\u001b[39m\n\u001b[32m----> \u001b[39m\u001b[32m1\u001b[39m \u001b[38;5;28;01mimport\u001b[39;00m\u001b[38;5;250m \u001b[39m\u001b[34;01mipywidgets\u001b[39;00m\u001b[38;5;250m \u001b[39m\u001b[38;5;28;01mas\u001b[39;00m\u001b[38;5;250m \u001b[39m\u001b[34;01mwidgets\u001b[39;00m\n\u001b[32m      2\u001b[39m \u001b[38;5;28;01mfrom\u001b[39;00m\u001b[38;5;250m \u001b[39m\u001b[34;01mIPython\u001b[39;00m\u001b[34;01m.\u001b[39;00m\u001b[34;01mdisplay\u001b[39;00m\u001b[38;5;250m \u001b[39m\u001b[38;5;28;01mimport\u001b[39;00m display\n\u001b[32m      4\u001b[39m \u001b[38;5;66;03m# Dropdown menu for the UI box with options for conversion.\u001b[39;00m\n",
      "\u001b[31mModuleNotFoundError\u001b[39m: No module named 'ipywidgets'"
     ]
    }
   ],
   "source": [
    "import ipywidgets as widgets\n",
    "from IPython.display import display\n",
    "\n",
    "# Dropdown menu for the UI box with options for conversion.\n",
    "conversion_type = widgets.Dropdown(\n",
    "    options=['Temperature', 'Length', 'Weight'],\n",
    "    description='Type:',\n",
    "    disabled=False,\n",
    ")\n",
    "\n",
    "from_unit = widgets.Dropdown(description='From:')\n",
    "to_unit = widgets.Dropdown(description='To:')\n",
    "\n",
    "value_input = widgets.FloatText(\n",
    "    value=0,\n",
    "    description='Value:',\n",
    "    disabled=False\n",
    ")\n",
    "\n",
    "convert_button = widgets.Button(description=\"Convert\")\n",
    "clear_button = widgets.Button(description=\"Clear\")\n",
    "result_output = widgets.Output()\n",
    "\n",
    "# The UI size and type.\n",
    "box_layout = widgets.Layout(display='flex', flex_flow='column', align_items='stretch', width='50%')"
   ]
  },
  {
   "cell_type": "markdown",
   "id": "201c6ea7-a3ee-4796-9261-d7d8e64df1f9",
   "metadata": {},
   "source": [
    "## Layout Setup\n",
    "\n",
    "This function ensures the unit dropdowns always show appropriate options based on the selected conversion type."
   ]
  },
  {
   "cell_type": "code",
   "execution_count": null,
   "id": "8e4c55e7-6849-4c90-a096-c82c8e6a4571",
   "metadata": {},
   "outputs": [],
   "source": [
    "# Also set unit conversion type based on selections.\n",
    "def update_units(change):\n",
    "    if change['new'] == 'Temperature':\n",
    "        from_unit.options = ['Fahrenheit', 'Celsius']\n",
    "        to_unit.options = ['Fahrenheit', 'Celsius']\n",
    "    elif change['new'] == 'Length':\n",
    "        from_unit.options = ['Miles', 'Kilometers']\n",
    "        to_unit.options = ['Miles', 'Kilometers']\n",
    "    elif change['new'] =='Weight':\n",
    "        from_unit.options = ['Pounds', 'Kilograms']\n",
    "        to_unit.options = ['Pounds', 'Kilograms']\n",
    "\n",
    "    from_unit.value = None\n",
    "    to_unit.value = None\n",
    "\n",
    "# Look for any updates to the units and update accordingly\n",
    "conversion_type.observe(update_units, names='value')\n",
    "update_units({'new': conversion_type.value})"
   ]
  },
  {
   "cell_type": "markdown",
   "id": "67720678-7db9-4068-975e-6f148e3c74ee",
   "metadata": {},
   "source": [
    "## Core Conversion \n",
    "Handles all conversion calculations with proper error checking and validation."
   ]
  },
  {
   "cell_type": "markdown",
   "id": "3bceaec8-62be-4075-9bbb-2bb19d1d3a08",
   "metadata": {},
   "source": [
    "### Conversion Formulas\n",
    "- **Temperature**:\n",
    "  - Fahrenheit to Celsius: `(°F - 32) * 5/9`\n",
    "  - Celsius to Fahrenheit: `(°C × 9/5) + 32`\n",
    "- **Length**:\n",
    "  - Miles to Kilometers: `miles * 1.60934`\n",
    "  - Kilometers to Miles: `km / 1.60934`\n",
    "- **Weight**:\n",
    "  - Pounds to Kilograms: `lbs * 0.453592`\n",
    "  -  Kilograms to Pounds: `kg / 0.453592`"
   ]
  },
  {
   "cell_type": "code",
   "execution_count": 4,
   "id": "7de59152-672c-4262-99d1-dd59e21d43f4",
   "metadata": {},
   "outputs": [
    {
     "ename": "NameError",
     "evalue": "name 'convert_button' is not defined",
     "output_type": "error",
     "traceback": [
      "\u001b[31m---------------------------------------------------------------------------\u001b[39m",
      "\u001b[31mNameError\u001b[39m                                 Traceback (most recent call last)",
      "\u001b[36mCell\u001b[39m\u001b[36m \u001b[39m\u001b[32mIn[4]\u001b[39m\u001b[32m, line 47\u001b[39m\n\u001b[32m     44\u001b[39m     result_output.clear_output()\n\u001b[32m     46\u001b[39m \u001b[38;5;66;03m# Bind buttons\u001b[39;00m\n\u001b[32m---> \u001b[39m\u001b[32m47\u001b[39m \u001b[43mconvert_button\u001b[49m.on_click(convert_units)\n\u001b[32m     48\u001b[39m clear_button.on_click(clear_inputs)\n",
      "\u001b[31mNameError\u001b[39m: name 'convert_button' is not defined"
     ]
    }
   ],
   "source": [
    "# Main conversion function\n",
    "def convert_units(b):\n",
    "    result_output.clear_output()\n",
    "    with result_output: # Temporarily use the following code.\n",
    "        try: # Attempt to do a conversion.\n",
    "            value = value_input.value\n",
    "            con_type = conversion_type.value\n",
    "            f_unit = from_unit.value\n",
    "            t_unit = to_unit.value\n",
    "\n",
    "            if not all([con_type, f_unit, t_unit]): #if not all of the inputs/options are filled.\n",
    "                print(\" Please select all options\")\n",
    "                return\n",
    "\n",
    "            if f_unit == t_unit: #making sure you don't try to convert fahrenheit to fahrenheit for example.\n",
    "                print(\" Please select different units\")\n",
    "                return\n",
    "\n",
    "            # Conversion calculations\n",
    "            if con_type == 'Temperature':\n",
    "                if f_unit == 'Fahrenheit' and t_unit == 'Celsius':\n",
    "                    result = (value - 32) * 5/9\n",
    "                else:\n",
    "                    result = (value * 9/5) + 32\n",
    "            elif con_type == 'Length':\n",
    "                if f_unit == 'Miles' and t_unit == 'Kilometers':\n",
    "                    result = value * 1.60934\n",
    "                else:\n",
    "                    result = value / 1.60934\n",
    "            elif con_type == 'Weight':\n",
    "                if f_unit == 'Pounds' and t_unit == 'Kilograms':\n",
    "                    result = value * 0.453592\n",
    "                else:\n",
    "                    result = value / 0.453592\n",
    "\n",
    "            print(f\" Result: {result:.4f} {t_unit}\")\n",
    "\n",
    "        except Exception as e: #if maybe we gave invalid inputs or text throw an error.\n",
    "            print(f\" Error: {str(e)}\")\n",
    "\n",
    "# Clear out the function, to let fresh inputs be made for the next conversion\n",
    "def clear_inputs(b):\n",
    "    value_input.value = 0\n",
    "    result_output.clear_output()\n",
    "\n",
    "# Bind buttons\n",
    "convert_button.on_click(convert_units)\n",
    "clear_button.on_click(clear_inputs)"
   ]
  },
  {
   "cell_type": "markdown",
   "id": "6efefc94-12a1-43fc-97f9-5ac73f0b23b9",
   "metadata": {},
   "source": [
    "## Drawing the Display\n",
    "\n",
    "Connect all widgets and create the complete converter interface"
   ]
  },
  {
   "cell_type": "code",
   "execution_count": null,
   "id": "5b872d93-9c2e-488a-a1f1-86dd4d3caac9",
   "metadata": {},
   "outputs": [],
   "source": [
    "# Setup the UI elements for display\n",
    "print(\" Unit Converter \")\n",
    "display(conversion_type)\n",
    "display(from_unit)\n",
    "display(to_unit)\n",
    "display(value_input)\n",
    "display(widgets.HBox([convert_button, clear_button]))\n",
    "display(result_output)"
   ]
  }
 ],
 "metadata": {
  "kernelspec": {
   "display_name": "Python 3 (ipykernel)",
   "language": "python",
   "name": "python3"
  },
  "language_info": {
   "codemirror_mode": {
    "name": "ipython",
    "version": 3
   },
   "file_extension": ".py",
   "mimetype": "text/x-python",
   "name": "python",
   "nbconvert_exporter": "python",
   "pygments_lexer": "ipython3",
   "version": "3.13.7"
  }
 },
 "nbformat": 4,
 "nbformat_minor": 5
}
