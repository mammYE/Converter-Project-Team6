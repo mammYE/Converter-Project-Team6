{
 "cells": [
  {
   "cell_type": "markdown",
   "id": "9ce321d3-3f3b-4183-b2c8-aee73142e0a6",
   "metadata": {},
   "source": [
    "# **Converter**"
   ]
  },
  {
   "cell_type": "markdown",
   "id": "913fd065-8322-4be5-9f46-15dd28da3f26",
   "metadata": {},
   "source": [
    "## **Team 6**"
   ]
  },
  {
   "cell_type": "markdown",
   "id": "3fff099d-f7ca-420b-a93a-682d254b6039",
   "metadata": {},
   "source": [
    "# Unit Converter \n",
    "\n",
    "## Project Overview\n",
    "Unit converter built using IPython widgets that allows conversion between different units (Temperature, Length, Weight)\n",
    "\n",
    "## Code Structure"
   ]
  },
  {
   "cell_type": "code",
   "execution_count": 3,
   "id": "38887447-eec8-4c11-96f0-8d9a8722a235",
   "metadata": {},
   "outputs": [],
   "source": [
    "import ipywidgets as widgets\n",
    "from IPython.display import display\n",
    "\n",
    "# widgets\n",
    "conversion_type = widgets.Dropdown(\n",
    "    options=['Temperature', 'Length', 'Weight'],\n",
    "    description='Type:',\n",
    "    disabled=False,\n",
    ")\n",
    "\n",
    "from_unit = widgets.Dropdown(description='From:')\n",
    "to_unit = widgets.Dropdown(description='To:')\n",
    "\n",
    "value_input = widgets.FloatText(\n",
    "    value=0,\n",
    "    description='Value:',\n",
    "    disabled=False\n",
    ")\n",
    "\n",
    "convert_button = widgets.Button(description=\"Convert\")\n",
    "clear_button = widgets.Button(description=\"Clear\")\n",
    "result_output = widgets.Output()\n",
    "\n",
    "# layout\n",
    "box_layout = widgets.Layout(display='flex', flex_flow='column', align_items='stretch', width='50%')"
   ]
  },
  {
   "cell_type": "markdown",
   "id": "201c6ea7-a3ee-4796-9261-d7d8e64df1f9",
   "metadata": {},
   "source": [
    "## Layout setup\n",
    "\n",
    "This function ensures the unit dropdowns always show appropriate options based on the selected conversion type."
   ]
  },
  {
   "cell_type": "code",
   "execution_count": 4,
   "id": "8e4c55e7-6849-4c90-a096-c82c8e6a4571",
   "metadata": {},
   "outputs": [],
   "source": [
    "\n",
    "# Update units based on conversion type\n",
    "def update_units(change):\n",
    "    if change['new'] == 'Temperature':\n",
    "        from_unit.options = ['Fahrenheit', 'Celsius']\n",
    "        to_unit.options = ['Fahrenheit', 'Celsius']\n",
    "    elif change['new'] == 'Length':\n",
    "        from_unit.options = ['Miles', 'Kilometers']\n",
    "        to_unit.options = ['Miles', 'Kilometers']\n",
    "    elif change['new'] =='Weight':\n",
    "        from_unit.options = ['Pounds', 'Kilograms']\n",
    "        to_unit.options = ['Pounds', 'Kilograms']\n",
    "\n",
    "    from_unit.value = None\n",
    "    to_unit.value = None\n",
    "    \n",
    "conversion_type.observe(update_units, names='value')\n",
    "update_units({'new': conversion_type.value})"
   ]
  },
  {
   "cell_type": "markdown",
   "id": "67720678-7db9-4068-975e-6f148e3c74ee",
   "metadata": {},
   "source": [
    "### Core Conversion \n",
    "Handles all conversion calculations with proper error checking and validation."
   ]
  },
  {
   "cell_type": "markdown",
   "id": "3bceaec8-62be-4075-9bbb-2bb19d1d3a08",
   "metadata": {},
   "source": [
    "## Conversion Formaula\n",
    "\n",
    "**Temperature**:\n",
    "Fahrenheit to Celsius: `(°F - 32) * 5/9`\n",
    "Celsius to Fahrenheit: `(°C × 9/5) + 32`\n",
    "**Length**:\n",
    "Miles to Kilometers: `miles * 1.60934`\n",
    "Kilometers to Miles: `km / 1.60934`\n",
    "**Weight**:\n",
    "Pounds to Kilograms: `lbs * 0.453592`\n",
    "Kilograms to Pounds: `kg / 0.453592`"
   ]
  },
  {
   "cell_type": "code",
   "execution_count": 7,
   "id": "7de59152-672c-4262-99d1-dd59e21d43f4",
   "metadata": {},
   "outputs": [],
   "source": [
    "# Conversion function\n",
    "def convert_units(b):\n",
    "    result_output.clear_output()\n",
    "    with result_output:\n",
    "        try:\n",
    "            value = value_input.value\n",
    "            con_type = conversion_type.value\n",
    "            f_unit = from_unit.value\n",
    "            t_unit = to_unit.value\n",
    "\n",
    "            if not all([con_type, f_unit, t_unit]):\n",
    "                print(\" Please select all options\")\n",
    "                return\n",
    "\n",
    "            if f_unit == t_unit:\n",
    "                print(\" Please select different units\")\n",
    "                return\n",
    "\n",
    "            # Conversion\n",
    "            if con_type == 'Temperature':\n",
    "                if f_unit == 'Fahrenheit' and t_unit == 'Celsius':\n",
    "                    result = (value - 32) * 5/9\n",
    "                else:\n",
    "                    result = (value * 9/5) + 32\n",
    "            elif con_type == 'Length':\n",
    "                if f_unit == 'Miles' and t_unit == 'Kilometers':\n",
    "                    result = value * 1.60934\n",
    "                else:\n",
    "                    result = value / 1.60934\n",
    "            elif con_type == 'Weight':\n",
    "                if f_unit == 'Pounds' and t_unit == 'Kilograms':\n",
    "                    result = value * 0.453592\n",
    "                else:\n",
    "                    result = value / 0.453592\n",
    "\n",
    "            print(f\" Result: {result:.4f} {t_unit}\")\n",
    "\n",
    "        except Exception as e:\n",
    "            print(f\" Error: {str(e)}\")\n",
    "\n",
    "            # Clear function\n",
    "def clear_inputs(b):\n",
    "    value_input.value = 0\n",
    "    result_output.clear_output()\n",
    "\n",
    "#Bind buttons\n",
    "convert_button.on_click(convert_units)\n",
    "clear_button.on_click(clear_inputs)"
   ]
  },
  {
   "cell_type": "markdown",
   "id": "6efefc94-12a1-43fc-97f9-5ac73f0b23b9",
   "metadata": {},
   "source": [
    "### UI setup\n",
    "\n",
    "Connect all widgets and shows complete converter interface"
   ]
  },
  {
   "cell_type": "code",
   "execution_count": 9,
   "id": "5b872d93-9c2e-488a-a1f1-86dd4d3caac9",
   "metadata": {},
   "outputs": [
    {
     "name": "stdout",
     "output_type": "stream",
     "text": [
      " Unit Converter \n"
     ]
    },
    {
     "data": {
      "application/vnd.jupyter.widget-view+json": {
       "model_id": "01a2375a5ecd49ff9f67873d33384e27",
       "version_major": 2,
       "version_minor": 0
      },
      "text/plain": [
       "Dropdown(description='Type:', options=('Temperature', 'Length', 'Weight'), value='Temperature')"
      ]
     },
     "metadata": {},
     "output_type": "display_data"
    },
    {
     "data": {
      "application/vnd.jupyter.widget-view+json": {
       "model_id": "f5086bd65bce42d28af92fcd531e6748",
       "version_major": 2,
       "version_minor": 0
      },
      "text/plain": [
       "Dropdown(description='From:', options=('Fahrenheit', 'Celsius'), value=None)"
      ]
     },
     "metadata": {},
     "output_type": "display_data"
    },
    {
     "data": {
      "application/vnd.jupyter.widget-view+json": {
       "model_id": "a940a935b5ef4e67aa2ee8b7a4bef20b",
       "version_major": 2,
       "version_minor": 0
      },
      "text/plain": [
       "Dropdown(description='To:', options=('Fahrenheit', 'Celsius'), value=None)"
      ]
     },
     "metadata": {},
     "output_type": "display_data"
    },
    {
     "data": {
      "application/vnd.jupyter.widget-view+json": {
       "model_id": "a72a9b79a97741e899b1c9be6b292e14",
       "version_major": 2,
       "version_minor": 0
      },
      "text/plain": [
       "FloatText(value=0.0, description='Value:')"
      ]
     },
     "metadata": {},
     "output_type": "display_data"
    },
    {
     "data": {
      "application/vnd.jupyter.widget-view+json": {
       "model_id": "f5e126e3511a4c35a2126bd6a493de20",
       "version_major": 2,
       "version_minor": 0
      },
      "text/plain": [
       "HBox(children=(Button(description='Convert', style=ButtonStyle()), Button(description='Clear', style=ButtonSty…"
      ]
     },
     "metadata": {},
     "output_type": "display_data"
    },
    {
     "data": {
      "application/vnd.jupyter.widget-view+json": {
       "model_id": "dfba9e47668244f78ec9cdba8eefcb75",
       "version_major": 2,
       "version_minor": 0
      },
      "text/plain": [
       "Output()"
      ]
     },
     "metadata": {},
     "output_type": "display_data"
    }
   ],
   "source": [
    "# Display \n",
    "print(\" Unit Converter \")\n",
    "display(conversion_type)\n",
    "display(from_unit)\n",
    "display(to_unit)\n",
    "display(value_input)\n",
    "display(widgets.HBox([convert_button, clear_button]))\n",
    "display(result_output)\n"
   ]
  }
 ],
 "metadata": {
  "kernelspec": {
   "display_name": "Python [conda env:base] *",
   "language": "python",
   "name": "conda-base-py"
  },
  "language_info": {
   "codemirror_mode": {
    "name": "ipython",
    "version": 3
   },
   "file_extension": ".py",
   "mimetype": "text/x-python",
   "name": "python",
   "nbconvert_exporter": "python",
   "pygments_lexer": "ipython3",
   "version": "3.13.5"
  }
 },
 "nbformat": 4,
 "nbformat_minor": 5
}
